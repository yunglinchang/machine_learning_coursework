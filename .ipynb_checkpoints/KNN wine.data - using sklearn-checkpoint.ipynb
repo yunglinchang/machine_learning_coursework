{
 "cells": [
  {
   "cell_type": "code",
   "execution_count": null,
   "metadata": {},
   "outputs": [],
   "source": [
    "#匯入套件\n",
    "import pandas as pd\n",
    "#為col命名，有14個...'Wine'\n",
    "names = ['Wine', 'Alcohol', 'Malicacid', 'Ash', 'Alcalinityofash', \n",
    "         'Magnesium', 'Totalphenols', 'Flavanoids', 'Nonflavanoidphenols', \n",
    "         'Proanthocyanins', 'Colorintensity', 'Hue', 'OD280/OD315ofdilutedwines', 'Proline']\n",
    "#load training data\n",
    "df = pd.read_csv(r'C:\\Users\\Jack Chang\\Desktop\\INTRODUCTION TO MACHINE LEARNING\\wine.txt', header=None, names=names)"
   ]
  },
  {
   "cell_type": "code",
   "execution_count": null,
   "metadata": {},
   "outputs": [],
   "source": [
    "#observing the data\n",
    "df.head()\n",
    "\n",
    "df.info()\n",
    "df.describe()"
   ]
  },
  {
   "cell_type": "code",
   "execution_count": null,
   "metadata": {},
   "outputs": [],
   "source": [
    "#load繪圖library\n",
    "import matplotlib.pyplot as plt\n",
    "\n",
    "import seaborn as sns\n",
    "plt.style.use('ggplot') #seaborn比matplot還精緻\n",
    "g = sns.FacetGrid(df, hue=\"Wine\", size=10)\n",
    "g.map(plt.scatter, \"Proline\", \"Colorintensity\")\n",
    "g.add_legend()\n",
    "\n",
    "h = sns.FacetGrid(df, hue=\"Wine\", size=10)\n",
    "h.map(plt.scatter, \"Proline\", \"Malicacid\")\n",
    "h.add_legend()"
   ]
  },
  {
   "cell_type": "code",
   "execution_count": null,
   "metadata": {},
   "outputs": [],
   "source": [
    "#選擇演算法\n",
    "import numpy as np\n",
    "from sklearn.cross_validation import train_test_split"
   ]
  },
  {
   "cell_type": "code",
   "execution_count": null,
   "metadata": {},
   "outputs": [],
   "source": [
    "#設計matrix X and target vector y\n",
    "X = df.iloc[:,1:14].values #變數有13個!!! #第1到14行\n",
    "y = df.iloc[:,0].values #酒名是第一個!!! #第0行\n",
    "\n",
    "#分割資料成為train和test\n",
    "X_train, X_test, y_train, y_test = train_test_split(X, y, test_size=0.2, random_state=42)"
   ]
  },
  {
   "cell_type": "code",
   "execution_count": null,
   "metadata": {},
   "outputs": [],
   "source": [
    "#knn library\n",
    "from sklearn.neighbors import KNeighborsClassifier\n",
    "\n",
    "#先將K設為3(instantiate learning model)\n",
    "knn = KNeighborsClassifier(n_neighbors=3)\n",
    "\n",
    "#fit the model\n",
    "knn.fit(X_train, y_train)\n",
    "#predict the response\n",
    "pred = knn.predict(X_test)"
   ]
  },
  {
   "cell_type": "code",
   "execution_count": null,
   "metadata": {},
   "outputs": [],
   "source": [
    "#要評估accuracy\n",
    "from sklearn.metrics import accuracy_score\n",
    "accuracy_score(y_test, pred)"
   ]
  },
  {
   "cell_type": "code",
   "execution_count": null,
   "metadata": {},
   "outputs": [],
   "source": [
    "####################################################\n",
    "from sklearn import preprocessing\n",
    "\n",
    "lab_enc = preprocessing.LabelEncoder()\n",
    "encoded = lab_enc.fit_transform(y_train)\n",
    "####################################################"
   ]
  },
  {
   "cell_type": "code",
   "execution_count": null,
   "metadata": {},
   "outputs": [],
   "source": [
    "from sklearn.cross_validation import cross_val_score\n",
    "\n",
    "#create odd list of K for KNN\n",
    "mylist = list(range(1,50))\n",
    "\n",
    "#subsetting to just odd ones\n",
    "neighbors = list(filter(lambda x: x%2!=0, mylist)) #python3.6\n",
    "\n",
    "#empty list that will hold just cv scores\n",
    "cv_scores = []\n",
    "\n",
    "#perform 10-fold cross validation #切成10等分，所以算出來的答案是10次的平均，所以正確率比較低\n",
    "for k in neighbors:\n",
    "    knn = KNeighborsClassifier(n_neighbors=k)\n",
    "    scores = cross_val_score(knn, X_train, y_train, cv=10, scoring='accuracy')\n",
    "    cv_scores.append(scores.mean())\n",
    "\n",
    "#changing to miscalssification error\n",
    "MSE = [1 - x for x in cv_scores]\n",
    "\n",
    "#determing best k\n",
    "optimal_k = neighbors[MSE.index(min(MSE))]\n",
    "print(\"The optimal number of neighbors is %d\" % optimal_k)"
   ]
  },
  {
   "cell_type": "code",
   "execution_count": null,
   "metadata": {},
   "outputs": [],
   "source": [
    "#plot misclassification error vs k\n",
    "plt.plot(neighbors, MSE)\n",
    "plt.xlabel('Number of Neighbors K')\n",
    "plt.ylabel('Misclassification Error')\n",
    "plt.show()"
   ]
  }
 ],
 "metadata": {
  "kernelspec": {
   "display_name": "Python 3",
   "language": "python",
   "name": "python3"
  },
  "language_info": {
   "codemirror_mode": {
    "name": "ipython",
    "version": 3
   },
   "file_extension": ".py",
   "mimetype": "text/x-python",
   "name": "python",
   "nbconvert_exporter": "python",
   "pygments_lexer": "ipython3",
   "version": "3.7.0"
  }
 },
 "nbformat": 4,
 "nbformat_minor": 2
}
