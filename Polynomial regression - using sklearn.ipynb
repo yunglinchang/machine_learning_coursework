{
 "cells": [
  {
   "cell_type": "code",
   "execution_count": 1,
   "metadata": {},
   "outputs": [],
   "source": [
    "#匯入lib\n",
    "import pandas as pd\n",
    "%matplotlib inline \n",
    "import matplotlib.pyplot as plt\n",
    "import numpy as np"
   ]
  },
  {
   "cell_type": "code",
   "execution_count": 2,
   "metadata": {},
   "outputs": [],
   "source": [
    "#load training data\n",
    "data = pd.read_csv('regression1.csv')"
   ]
  },
  {
   "cell_type": "code",
   "execution_count": 3,
   "metadata": {},
   "outputs": [
    {
     "data": {
      "text/html": [
       "<div>\n",
       "<style scoped>\n",
       "    .dataframe tbody tr th:only-of-type {\n",
       "        vertical-align: middle;\n",
       "    }\n",
       "\n",
       "    .dataframe tbody tr th {\n",
       "        vertical-align: top;\n",
       "    }\n",
       "\n",
       "    .dataframe thead th {\n",
       "        text-align: right;\n",
       "    }\n",
       "</style>\n",
       "<table border=\"1\" class=\"dataframe\">\n",
       "  <thead>\n",
       "    <tr style=\"text-align: right;\">\n",
       "      <th></th>\n",
       "      <th>X</th>\n",
       "      <th>y</th>\n",
       "    </tr>\n",
       "  </thead>\n",
       "  <tbody>\n",
       "    <tr>\n",
       "      <th>0</th>\n",
       "      <td>235</td>\n",
       "      <td>591</td>\n",
       "    </tr>\n",
       "    <tr>\n",
       "      <th>1</th>\n",
       "      <td>216</td>\n",
       "      <td>539</td>\n",
       "    </tr>\n",
       "    <tr>\n",
       "      <th>2</th>\n",
       "      <td>148</td>\n",
       "      <td>413</td>\n",
       "    </tr>\n",
       "    <tr>\n",
       "      <th>3</th>\n",
       "      <td>35</td>\n",
       "      <td>310</td>\n",
       "    </tr>\n",
       "    <tr>\n",
       "      <th>4</th>\n",
       "      <td>85</td>\n",
       "      <td>308</td>\n",
       "    </tr>\n",
       "  </tbody>\n",
       "</table>\n",
       "</div>"
      ],
      "text/plain": [
       "     X    y\n",
       "0  235  591\n",
       "1  216  539\n",
       "2  148  413\n",
       "3   35  310\n",
       "4   85  308"
      ]
     },
     "execution_count": 3,
     "metadata": {},
     "output_type": "execute_result"
    }
   ],
   "source": [
    "data.head()"
   ]
  },
  {
   "cell_type": "code",
   "execution_count": 4,
   "metadata": {},
   "outputs": [],
   "source": [
    "X = data.iloc[:, 0].values\n",
    "y = data.iloc[:, 1].values"
   ]
  },
  {
   "cell_type": "code",
   "execution_count": 5,
   "metadata": {},
   "outputs": [
    {
     "data": {
      "text/plain": [
       "[<matplotlib.lines.Line2D at 0x117f29780>]"
      ]
     },
     "execution_count": 5,
     "metadata": {},
     "output_type": "execute_result"
    },
    {
     "data": {
      "image/png": "[encoded data removed]",
      "text/plain": [
       "<Figure size 432x288 with 1 Axes>"
      ]
     },
     "metadata": {
      "needs_background": "light"
     },
     "output_type": "display_data"
    }
   ],
   "source": [
    "plt.plot(X, y, 'o')"
   ]
  },
  {
   "cell_type": "code",
   "execution_count": 6,
   "metadata": {},
   "outputs": [],
   "source": [
    "mu = X.mean()\n",
    "sigma = X.std()\n",
    "Z = (X-mu)/sigma"
   ]
  },
  {
   "cell_type": "code",
   "execution_count": 7,
   "metadata": {},
   "outputs": [
    {
     "data": {
      "text/plain": [
       "[<matplotlib.lines.Line2D at 0x119c270b8>]"
      ]
     },
     "execution_count": 7,
     "metadata": {},
     "output_type": "execute_result"
    },
    {
     "data": {
      "image/png": "[encoded data removed]",
      "text/plain": [
       "<Figure size 432x288 with 1 Axes>"
      ]
     },
     "metadata": {
      "needs_background": "light"
     },
     "output_type": "display_data"
    }
   ],
   "source": [
    "plt.plot(Z, y, 'o')"
   ]
  },
  {
   "cell_type": "code",
   "execution_count": 8,
   "metadata": {},
   "outputs": [],
   "source": [
    "from sklearn.linear_model import LinearRegression"
   ]
  },
  {
   "cell_type": "code",
   "execution_count": 9,
   "metadata": {},
   "outputs": [
    {
     "name": "stdout",
     "output_type": "stream",
     "text": [
      "Slope: 95.564\n",
      "Intercept: 428.600\n"
     ]
    }
   ],
   "source": [
    "lr = LinearRegression()\n",
    "X1 = Z.reshape(-1, 1)\n",
    "lr.fit(X1, y)\n",
    "y_pred = lr.predict(X1)\n",
    "print('Slope: %.3f' % lr.coef_[0])\n",
    "print('Intercept: %.3f' % lr.intercept_)"
   ]
  },
  {
   "cell_type": "markdown",
   "metadata": {},
   "source": [
    "#多項式回歸 theta[0] + theta[1]*x + theta[2]*x**2"
   ]
  },
  {
   "cell_type": "code",
   "execution_count": 10,
   "metadata": {},
   "outputs": [],
   "source": [
    "from sklearn.preprocessing import PolynomialFeatures"
   ]
  },
  {
   "cell_type": "code",
   "execution_count": 11,
   "metadata": {},
   "outputs": [],
   "source": [
    "pr = LinearRegression()\n",
    "quadratic = PolynomialFeatures(degree = 2) #多一個x平方的項目\n",
    "X_quad = quadratic.fit_transform(X1)"
   ]
  },
  {
   "cell_type": "code",
   "execution_count": 12,
   "metadata": {},
   "outputs": [
    {
     "data": {
      "text/plain": [
       "array([[ 1.        ,  1.39433428,  1.94416809],\n",
       "       [ 1.        ,  1.11069026,  1.23363286],\n",
       "       [ 1.        ,  0.09554325,  0.00912851],\n",
       "       [ 1.        , -1.59139223,  2.53252924],\n",
       "       [ 1.        , -0.8449606 ,  0.71395842],\n",
       "       [ 1.        ,  0.93154667,  0.8677792 ],\n",
       "       [ 1.        , -1.38239138,  1.91100592],\n",
       "       [ 1.        , -1.74067856,  3.02996185],\n",
       "       [ 1.        ,  0.46875906,  0.21973506],\n",
       "       [ 1.        ,  0.73747445,  0.54386856],\n",
       "       [ 1.        , -0.11345761,  0.01287263],\n",
       "       [ 1.        , -0.63595975,  0.4044448 ],\n",
       "       [ 1.        , -0.36724436,  0.13486842],\n",
       "       [ 1.        , -0.44188752,  0.19526458],\n",
       "       [ 1.        ,  0.3045441 ,  0.09274711],\n",
       "       [ 1.        ,  1.94669369,  3.78961632],\n",
       "       [ 1.        ,  0.25975821,  0.06747433],\n",
       "       [ 1.        ,  0.25975821,  0.06747433],\n",
       "       [ 1.        , -1.23310505,  1.52054807],\n",
       "       [ 1.        ,  0.84197488,  0.70892169]])"
      ]
     },
     "execution_count": 12,
     "metadata": {},
     "output_type": "execute_result"
    }
   ],
   "source": [
    "X_quad"
   ]
  },
  {
   "cell_type": "code",
   "execution_count": 13,
   "metadata": {},
   "outputs": [
    {
     "name": "stdout",
     "output_type": "stream",
     "text": [
      "theta1: 97.133\n",
      "theta2: 22.623\n",
      "Intercept: 405.977\n"
     ]
    }
   ],
   "source": [
    "#fit linear features\n",
    "pr.fit(X_quad, y)\n",
    "y_quad_pred = pr.predict(X_quad)\n",
    "print('theta1: %.3f' % pr.coef_[1]) #.3f是取三位\n",
    "print('theta2: %.3f' % pr.coef_[2])\n",
    "print('Intercept: %.3f' % pr.intercept_)"
   ]
  },
  {
   "cell_type": "code",
   "execution_count": 14,
   "metadata": {},
   "outputs": [
    {
     "data": {
      "text/plain": [
       "[<matplotlib.lines.Line2D at 0x1a1bd98d68>]"
      ]
     },
     "execution_count": 14,
     "metadata": {},
     "output_type": "execute_result"
    },
    {
     "data": {
      "image/png": "[encoded data removed]",
      "text/plain": [
       "<Figure size 432x288 with 1 Axes>"
      ]
     },
     "metadata": {
      "needs_background": "light"
     },
     "output_type": "display_data"
    }
   ],
   "source": [
    "x = np.linspace(-3, 3, 100)\n",
    "\n",
    "plt.plot(Z, y , 'o')\n",
    "plt.plot(x, lr.intercept_+lr.coef_[0]*x)\n",
    "plt.plot(x, pr.intercept_+pr.coef_[1]*x+pr.coef_[2]*x**2)"
   ]
  },
  {
   "cell_type": "code",
   "execution_count": 15,
   "metadata": {},
   "outputs": [
    {
     "name": "stdout",
     "output_type": "stream",
     "text": [
      "MSE: 978.262\n",
      "MSE: 377.582\n"
     ]
    }
   ],
   "source": [
    "#computing MSE\n",
    "from sklearn.metrics import mean_squared_error\n",
    "\n",
    "print('MSE: %.3f' % mean_squared_error(y, y_pred))\n",
    "print('MSE: %.3f' % mean_squared_error(y, y_quad_pred))"
   ]
  }
 ],
 "metadata": {
  "kernelspec": {
   "display_name": "Python 3",
   "language": "python",
   "name": "python3"
  },
  "language_info": {
   "codemirror_mode": {
    "name": "ipython",
    "version": 3
   },
   "file_extension": ".py",
   "mimetype": "text/x-python",
   "name": "python",
   "nbconvert_exporter": "python",
   "pygments_lexer": "ipython3",
   "version": "3.7.0"
  }
 },
 "nbformat": 4,
 "nbformat_minor": 2
}
