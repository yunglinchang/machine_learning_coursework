{
 "cells": [
  {
   "cell_type": "code",
   "execution_count": 2,
   "metadata": {},
   "outputs": [],
   "source": [
    "#標準化 目的：對應一個標準常態分佈\n",
    "#資料在0-300，要把它變到0-3之間\n",
    "#載入套件\n",
    "import numpy as np\n",
    "import pandas as pd\n",
    "%matplotlib inline \n",
    "import matplotlib.pyplot as plt"
   ]
  },
  {
   "cell_type": "code",
   "execution_count": 3,
   "metadata": {},
   "outputs": [],
   "source": [
    "#load training data\n",
    "data = pd.read_csv('regression1.csv')\n",
    "X = data.iloc[:, 0].values\n",
    "y = data.iloc[:,1].values"
   ]
  },
  {
   "cell_type": "code",
   "execution_count": 4,
   "metadata": {},
   "outputs": [
    {
     "data": {
      "text/html": [
       "<div>\n",
       "<style scoped>\n",
       "    .dataframe tbody tr th:only-of-type {\n",
       "        vertical-align: middle;\n",
       "    }\n",
       "\n",
       "    .dataframe tbody tr th {\n",
       "        vertical-align: top;\n",
       "    }\n",
       "\n",
       "    .dataframe thead th {\n",
       "        text-align: right;\n",
       "    }\n",
       "</style>\n",
       "<table border=\"1\" class=\"dataframe\">\n",
       "  <thead>\n",
       "    <tr style=\"text-align: right;\">\n",
       "      <th></th>\n",
       "      <th>X</th>\n",
       "      <th>y</th>\n",
       "    </tr>\n",
       "  </thead>\n",
       "  <tbody>\n",
       "    <tr>\n",
       "      <th>0</th>\n",
       "      <td>235</td>\n",
       "      <td>591</td>\n",
       "    </tr>\n",
       "    <tr>\n",
       "      <th>1</th>\n",
       "      <td>216</td>\n",
       "      <td>539</td>\n",
       "    </tr>\n",
       "    <tr>\n",
       "      <th>2</th>\n",
       "      <td>148</td>\n",
       "      <td>413</td>\n",
       "    </tr>\n",
       "    <tr>\n",
       "      <th>3</th>\n",
       "      <td>35</td>\n",
       "      <td>310</td>\n",
       "    </tr>\n",
       "    <tr>\n",
       "      <th>4</th>\n",
       "      <td>85</td>\n",
       "      <td>308</td>\n",
       "    </tr>\n",
       "  </tbody>\n",
       "</table>\n",
       "</div>"
      ],
      "text/plain": [
       "     X    y\n",
       "0  235  591\n",
       "1  216  539\n",
       "2  148  413\n",
       "3   35  310\n",
       "4   85  308"
      ]
     },
     "execution_count": 4,
     "metadata": {},
     "output_type": "execute_result"
    }
   ],
   "source": [
    "data.head()"
   ]
  },
  {
   "cell_type": "markdown",
   "metadata": {},
   "source": [
    "#polting graphs"
   ]
  },
  {
   "cell_type": "code",
   "execution_count": 5,
   "metadata": {},
   "outputs": [
    {
     "data": {
      "text/plain": [
       "[<matplotlib.lines.Line2D at 0x120d3ff28>]"
      ]
     },
     "execution_count": 5,
     "metadata": {},
     "output_type": "execute_result"
    },
    {
     "data": {
      "image/png": "[encoded data removed]",
      "text/plain": [
       "<Figure size 432x288 with 1 Axes>"
      ]
     },
     "metadata": {
      "needs_background": "light"
     },
     "output_type": "display_data"
    }
   ],
   "source": [
    "plt.plot(X, y, 'o')"
   ]
  },
  {
   "cell_type": "code",
   "execution_count": 6,
   "metadata": {},
   "outputs": [],
   "source": [
    "#normalization"
   ]
  },
  {
   "cell_type": "code",
   "execution_count": 7,
   "metadata": {},
   "outputs": [],
   "source": [
    "mu = X.mean() #X的平均數\n",
    "sigma = X.std() #X的標準差\n",
    "\n",
    "Z = (X-mu)/sigma\n",
    "#Hint: X是array"
   ]
  },
  {
   "cell_type": "markdown",
   "metadata": {},
   "source": [
    "#ploting graphs"
   ]
  },
  {
   "cell_type": "code",
   "execution_count": 8,
   "metadata": {},
   "outputs": [
    {
     "data": {
      "text/plain": [
       "[<matplotlib.lines.Line2D at 0x120da59b0>]"
      ]
     },
     "execution_count": 8,
     "metadata": {},
     "output_type": "execute_result"
    },
    {
     "data": {
      "image/png": "[encoded data removed]",
      "text/plain": [
       "<Figure size 432x288 with 1 Axes>"
      ]
     },
     "metadata": {
      "needs_background": "light"
     },
     "output_type": "display_data"
    }
   ],
   "source": [
    "plt.plot(Z, y, 'o')"
   ]
  },
  {
   "cell_type": "markdown",
   "metadata": {},
   "source": [
    "#gradient descent algorithm"
   ]
  },
  {
   "cell_type": "markdown",
   "metadata": {},
   "source": [
    "#initialization"
   ]
  },
  {
   "cell_type": "code",
   "execution_count": 9,
   "metadata": {},
   "outputs": [
    {
     "name": "stdout",
     "output_type": "stream",
     "text": [
      "1次:theta0 = 17.144, theta1 = 3.823, diff = 151179.0634\n",
      "2次:theta0 = 33.602, theta1 = 7.492, diff = 139326.6248\n",
      "3次:theta0 = 49.402, theta1 = 11.015, diff = 128403.4174\n",
      "4次:theta0 = 64.570, theta1 = 14.397, diff = 118336.5895\n",
      "5次:theta0 = 79.131, theta1 = 17.644, diff = 109059.0009\n",
      "6次:theta0 = 93.110, theta1 = 20.761, diff = 100508.7752\n",
      "7次:theta0 = 106.530, theta1 = 23.753, diff = 92628.8872\n",
      "8次:theta0 = 119.412, theta1 = 26.625, diff = 85366.7825\n",
      "9次:theta0 = 131.780, theta1 = 29.383, diff = 78674.0267\n",
      "10次:theta0 = 143.653, theta1 = 32.030, diff = 72505.9830\n",
      "11次:theta0 = 155.051, theta1 = 34.571, diff = 66821.5140\n",
      "12次:theta0 = 165.993, theta1 = 37.011, diff = 61582.7073\n",
      "13次:theta0 = 176.497, theta1 = 39.353, diff = 56754.6230\n",
      "14次:theta0 = 186.581, theta1 = 41.602, diff = 52305.0606\n",
      "15次:theta0 = 196.262, theta1 = 43.760, diff = 48204.3438\n",
      "16次:theta0 = 205.555, theta1 = 45.832, diff = 44425.1233\n",
      "17次:theta0 = 214.477, theta1 = 47.821, diff = 40942.1936\n",
      "18次:theta0 = 223.042, theta1 = 49.731, diff = 37732.3256\n",
      "19次:theta0 = 231.264, theta1 = 51.564, diff = 34774.1113\n",
      "20次:theta0 = 239.158, theta1 = 53.324, diff = 32047.8210\n",
      "21次:theta0 = 246.735, theta1 = 55.014, diff = 29535.2718\n",
      "22次:theta0 = 254.010, theta1 = 56.636, diff = 27219.7065\n",
      "23次:theta0 = 260.994, theta1 = 58.193, diff = 25085.6815\n",
      "24次:theta0 = 267.698, theta1 = 59.688, diff = 23118.9641\n",
      "25次:theta0 = 274.134, theta1 = 61.123, diff = 21306.4373\n",
      "26次:theta0 = 280.313, theta1 = 62.501, diff = 19636.0126\n",
      "27次:theta0 = 286.244, theta1 = 63.823, diff = 18096.5492\n",
      "28次:theta0 = 291.938, theta1 = 65.093, diff = 16677.7798\n",
      "29次:theta0 = 297.405, theta1 = 66.312, diff = 15370.2418\n",
      "30次:theta0 = 302.653, theta1 = 67.482, diff = 14165.2149\n",
      "31次:theta0 = 307.691, theta1 = 68.605, diff = 13054.6620\n",
      "32次:theta0 = 312.527, theta1 = 69.683, diff = 12031.1765\n",
      "33次:theta0 = 317.170, theta1 = 70.719, diff = 11087.9323\n",
      "34次:theta0 = 321.627, theta1 = 71.712, diff = 10218.6384\n",
      "35次:theta0 = 325.906, theta1 = 72.667, diff = 9417.4971\n",
      "36次:theta0 = 330.014, theta1 = 73.582, diff = 8679.1654\n",
      "37次:theta0 = 333.957, theta1 = 74.462, diff = 7998.7188\n",
      "38次:theta0 = 337.743, theta1 = 75.306, diff = 7371.6192\n",
      "39次:theta0 = 341.377, theta1 = 76.116, diff = 6793.6843\n",
      "40次:theta0 = 344.866, theta1 = 76.894, diff = 6261.0594\n",
      "41次:theta0 = 348.215, theta1 = 77.641, diff = 5770.1924\n",
      "42次:theta0 = 351.431, theta1 = 78.358, diff = 5317.8093\n",
      "43次:theta0 = 354.518, theta1 = 79.046, diff = 4900.8931\n",
      "44次:theta0 = 357.481, theta1 = 79.707, diff = 4516.6630\n",
      "45次:theta0 = 360.326, theta1 = 80.341, diff = 4162.5567\n",
      "46次:theta0 = 363.057, theta1 = 80.950, diff = 3836.2122\n",
      "47次:theta0 = 365.678, theta1 = 81.534, diff = 3535.4532\n",
      "48次:theta0 = 368.195, theta1 = 82.096, diff = 3258.2736\n",
      "49次:theta0 = 370.611, theta1 = 82.634, diff = 3002.8250\n",
      "50次:theta0 = 372.931, theta1 = 83.152, diff = 2767.4035\n",
      "51次:theta0 = 375.158, theta1 = 83.648, diff = 2550.4391\n",
      "52次:theta0 = 377.295, theta1 = 84.125, diff = 2350.4847\n",
      "53次:theta0 = 379.348, theta1 = 84.582, diff = 2166.2067\n",
      "54次:theta0 = 381.318, theta1 = 85.022, diff = 1996.3761\n",
      "55次:theta0 = 383.209, theta1 = 85.443, diff = 1839.8602\n",
      "56次:theta0 = 385.025, theta1 = 85.848, diff = 1695.6151\n",
      "57次:theta0 = 386.768, theta1 = 86.237, diff = 1562.6789\n",
      "58次:theta0 = 388.441, theta1 = 86.610, diff = 1440.1649\n",
      "59次:theta0 = 390.047, theta1 = 86.968, diff = 1327.2560\n",
      "60次:theta0 = 391.589, theta1 = 87.312, diff = 1223.1991\n",
      "61次:theta0 = 393.070, theta1 = 87.642, diff = 1127.3003\n",
      "62次:theta0 = 394.491, theta1 = 87.959, diff = 1038.9199\n",
      "63次:theta0 = 395.855, theta1 = 88.263, diff = 957.4686\n",
      "64次:theta0 = 397.165, theta1 = 88.555, diff = 882.4031\n",
      "65次:theta0 = 398.423, theta1 = 88.835, diff = 813.2227\n",
      "66次:theta0 = 399.630, theta1 = 89.105, diff = 749.4660\n",
      "67次:theta0 = 400.788, theta1 = 89.363, diff = 690.7079\n",
      "68次:theta0 = 401.901, theta1 = 89.611, diff = 636.5564\n",
      "69次:theta0 = 402.969, theta1 = 89.849, diff = 586.6504\n",
      "70次:theta0 = 403.994, theta1 = 90.078, diff = 540.6570\n",
      "71次:theta0 = 404.978, theta1 = 90.297, diff = 498.2695\n",
      "72次:theta0 = 405.923, theta1 = 90.508, diff = 459.2051\n",
      "73次:theta0 = 406.830, theta1 = 90.710, diff = 423.2035\n",
      "74次:theta0 = 407.701, theta1 = 90.904, diff = 390.0243\n",
      "75次:theta0 = 408.537, theta1 = 91.091, diff = 359.4464\n",
      "76次:theta0 = 409.340, theta1 = 91.270, diff = 331.2658\n",
      "77次:theta0 = 410.110, theta1 = 91.441, diff = 305.2946\n",
      "78次:theta0 = 410.850, theta1 = 91.606, diff = 281.3595\n",
      "79次:theta0 = 411.560, theta1 = 91.765, diff = 259.3009\n",
      "80次:theta0 = 412.241, theta1 = 91.917, diff = 238.9717\n",
      "81次:theta0 = 412.896, theta1 = 92.062, diff = 220.2363\n",
      "82次:theta0 = 413.524, theta1 = 92.202, diff = 202.9698\n",
      "83次:theta0 = 414.127, theta1 = 92.337, diff = 187.0570\n",
      "84次:theta0 = 414.706, theta1 = 92.466, diff = 172.3917\n",
      "85次:theta0 = 415.262, theta1 = 92.590, diff = 158.8762\n",
      "86次:theta0 = 415.795, theta1 = 92.709, diff = 146.4203\n",
      "87次:theta0 = 416.307, theta1 = 92.823, diff = 134.9409\n",
      "88次:theta0 = 416.799, theta1 = 92.933, diff = 124.3616\n",
      "89次:theta0 = 417.271, theta1 = 93.038, diff = 114.6116\n",
      "90次:theta0 = 417.724, theta1 = 93.139, diff = 105.6261\n",
      "91次:theta0 = 418.159, theta1 = 93.236, diff = 97.3450\n",
      "92次:theta0 = 418.577, theta1 = 93.329, diff = 89.7131\n",
      "93次:theta0 = 418.978, theta1 = 93.419, diff = 82.6796\n",
      "94次:theta0 = 419.363, theta1 = 93.504, diff = 76.1975\n",
      "95次:theta0 = 419.732, theta1 = 93.587, diff = 70.2237\n",
      "96次:theta0 = 420.087, theta1 = 93.666, diff = 64.7181\n",
      "97次:theta0 = 420.427, theta1 = 93.742, diff = 59.6442\n",
      "98次:theta0 = 420.754, theta1 = 93.815, diff = 54.9681\n",
      "99次:theta0 = 421.068, theta1 = 93.885, diff = 50.6586\n",
      "100次:theta0 = 421.369, theta1 = 93.952, diff = 46.6870\n",
      "101次:theta0 = 421.659, theta1 = 94.016, diff = 43.0267\n",
      "102次:theta0 = 421.936, theta1 = 94.078, diff = 39.6534\n",
      "103次:theta0 = 422.203, theta1 = 94.138, diff = 36.5446\n",
      "104次:theta0 = 422.459, theta1 = 94.195, diff = 33.6795\n",
      "105次:theta0 = 422.704, theta1 = 94.249, diff = 31.0390\n",
      "106次:theta0 = 422.940, theta1 = 94.302, diff = 28.6056\n",
      "107次:theta0 = 423.167, theta1 = 94.353, diff = 26.3629\n",
      "108次:theta0 = 423.384, theta1 = 94.401, diff = 24.2960\n",
      "109次:theta0 = 423.593, theta1 = 94.447, diff = 22.3912\n",
      "110次:theta0 = 423.793, theta1 = 94.492, diff = 20.6358\n",
      "111次:theta0 = 423.985, theta1 = 94.535, diff = 19.0179\n",
      "112次:theta0 = 424.170, theta1 = 94.576, diff = 17.5269\n",
      "113次:theta0 = 424.347, theta1 = 94.616, diff = 16.1528\n",
      "114次:theta0 = 424.517, theta1 = 94.654, diff = 14.8864\n",
      "115次:theta0 = 424.680, theta1 = 94.690, diff = 13.7193\n",
      "116次:theta0 = 424.837, theta1 = 94.725, diff = 12.6437\n",
      "117次:theta0 = 424.988, theta1 = 94.759, diff = 11.6525\n",
      "118次:theta0 = 425.132, theta1 = 94.791, diff = 10.7389\n",
      "119次:theta0 = 425.271, theta1 = 94.822, diff = 9.8970\n",
      "120次:theta0 = 425.404, theta1 = 94.851, diff = 9.1211\n",
      "121次:theta0 = 425.532, theta1 = 94.880, diff = 8.4060\n",
      "122次:theta0 = 425.655, theta1 = 94.907, diff = 7.7469\n",
      "123次:theta0 = 425.772, theta1 = 94.934, diff = 7.1396\n",
      "124次:theta0 = 425.886, theta1 = 94.959, diff = 6.5798\n",
      "125次:theta0 = 425.994, theta1 = 94.983, diff = 6.0640\n",
      "126次:theta0 = 426.098, theta1 = 95.006, diff = 5.5886\n",
      "127次:theta0 = 426.198, theta1 = 95.029, diff = 5.1504\n",
      "128次:theta0 = 426.294, theta1 = 95.050, diff = 4.7466\n",
      "129次:theta0 = 426.387, theta1 = 95.071, diff = 4.3745\n",
      "130次:theta0 = 426.475, theta1 = 95.090, diff = 4.0315\n",
      "131次:theta0 = 426.560, theta1 = 95.109, diff = 3.7155\n",
      "132次:theta0 = 426.642, theta1 = 95.127, diff = 3.4242\n",
      "133次:theta0 = 426.720, theta1 = 95.145, diff = 3.1557\n",
      "134次:theta0 = 426.795, theta1 = 95.162, diff = 2.9083\n",
      "135次:theta0 = 426.868, theta1 = 95.178, diff = 2.6803\n",
      "136次:theta0 = 426.937, theta1 = 95.193, diff = 2.4702\n",
      "137次:theta0 = 427.003, theta1 = 95.208, diff = 2.2765\n",
      "138次:theta0 = 427.067, theta1 = 95.222, diff = 2.0980\n",
      "139次:theta0 = 427.129, theta1 = 95.236, diff = 1.9335\n",
      "140次:theta0 = 427.187, theta1 = 95.249, diff = 1.7819\n",
      "141次:theta0 = 427.244, theta1 = 95.262, diff = 1.6422\n",
      "142次:theta0 = 427.298, theta1 = 95.274, diff = 1.5135\n",
      "143次:theta0 = 427.350, theta1 = 95.285, diff = 1.3948\n",
      "144次:theta0 = 427.400, theta1 = 95.296, diff = 1.2855\n",
      "145次:theta0 = 427.448, theta1 = 95.307, diff = 1.1847\n",
      "146次:theta0 = 427.494, theta1 = 95.317, diff = 1.0918\n",
      "147次:theta0 = 427.538, theta1 = 95.327, diff = 1.0062\n",
      "148次:theta0 = 427.581, theta1 = 95.337, diff = 0.9273\n",
      "149次:theta0 = 427.622, theta1 = 95.346, diff = 0.8546\n",
      "150次:theta0 = 427.661, theta1 = 95.355, diff = 0.7876\n",
      "151次:theta0 = 427.698, theta1 = 95.363, diff = 0.7259\n",
      "152次:theta0 = 427.734, theta1 = 95.371, diff = 0.6690\n",
      "153次:theta0 = 427.769, theta1 = 95.379, diff = 0.6165\n",
      "154次:theta0 = 427.802, theta1 = 95.386, diff = 0.5682\n",
      "155次:theta0 = 427.834, theta1 = 95.393, diff = 0.5236\n",
      "156次:theta0 = 427.865, theta1 = 95.400, diff = 0.4826\n",
      "157次:theta0 = 427.894, theta1 = 95.407, diff = 0.4448\n",
      "158次:theta0 = 427.923, theta1 = 95.413, diff = 0.4099\n",
      "159次:theta0 = 427.950, theta1 = 95.419, diff = 0.3777\n",
      "160次:theta0 = 427.976, theta1 = 95.425, diff = 0.3481\n",
      "161次:theta0 = 428.001, theta1 = 95.430, diff = 0.3208\n",
      "162次:theta0 = 428.025, theta1 = 95.436, diff = 0.2957\n",
      "163次:theta0 = 428.048, theta1 = 95.441, diff = 0.2725\n",
      "164次:theta0 = 428.070, theta1 = 95.446, diff = 0.2511\n",
      "165次:theta0 = 428.091, theta1 = 95.450, diff = 0.2314\n",
      "166次:theta0 = 428.111, theta1 = 95.455, diff = 0.2133\n",
      "167次:theta0 = 428.131, theta1 = 95.459, diff = 0.1966\n",
      "168次:theta0 = 428.150, theta1 = 95.464, diff = 0.1812\n",
      "169次:theta0 = 428.168, theta1 = 95.468, diff = 0.1670\n",
      "170次:theta0 = 428.185, theta1 = 95.471, diff = 0.1539\n",
      "171次:theta0 = 428.201, theta1 = 95.475, diff = 0.1418\n",
      "172次:theta0 = 428.217, theta1 = 95.479, diff = 0.1307\n",
      "173次:theta0 = 428.233, theta1 = 95.482, diff = 0.1204\n",
      "174次:theta0 = 428.247, theta1 = 95.485, diff = 0.1110\n",
      "175次:theta0 = 428.262, theta1 = 95.489, diff = 0.1023\n",
      "176次:theta0 = 428.275, theta1 = 95.492, diff = 0.0943\n",
      "177次:theta0 = 428.288, theta1 = 95.494, diff = 0.0869\n",
      "178次:theta0 = 428.301, theta1 = 95.497, diff = 0.0801\n",
      "179次:theta0 = 428.313, theta1 = 95.500, diff = 0.0738\n",
      "180次:theta0 = 428.324, theta1 = 95.502, diff = 0.0680\n",
      "181次:theta0 = 428.335, theta1 = 95.505, diff = 0.0627\n",
      "182次:theta0 = 428.346, theta1 = 95.507, diff = 0.0578\n",
      "183次:theta0 = 428.356, theta1 = 95.510, diff = 0.0532\n",
      "184次:theta0 = 428.366, theta1 = 95.512, diff = 0.0491\n",
      "185次:theta0 = 428.375, theta1 = 95.514, diff = 0.0452\n",
      "186次:theta0 = 428.384, theta1 = 95.516, diff = 0.0417\n",
      "187次:theta0 = 428.393, theta1 = 95.518, diff = 0.0384\n",
      "188次:theta0 = 428.401, theta1 = 95.520, diff = 0.0354\n",
      "189次:theta0 = 428.409, theta1 = 95.521, diff = 0.0326\n",
      "190次:theta0 = 428.417, theta1 = 95.523, diff = 0.0301\n",
      "191次:theta0 = 428.424, theta1 = 95.525, diff = 0.0277\n",
      "192次:theta0 = 428.431, theta1 = 95.526, diff = 0.0255\n",
      "193次:theta0 = 428.438, theta1 = 95.528, diff = 0.0235\n",
      "194次:theta0 = 428.444, theta1 = 95.529, diff = 0.0217\n",
      "195次:theta0 = 428.450, theta1 = 95.531, diff = 0.0200\n",
      "196次:theta0 = 428.456, theta1 = 95.532, diff = 0.0184\n",
      "197次:theta0 = 428.462, theta1 = 95.533, diff = 0.0170\n",
      "198次:theta0 = 428.468, theta1 = 95.534, diff = 0.0156\n",
      "199次:theta0 = 428.473, theta1 = 95.536, diff = 0.0144\n",
      "200次:theta0 = 428.478, theta1 = 95.537, diff = 0.0133\n",
      "201次:theta0 = 428.483, theta1 = 95.538, diff = 0.0122\n",
      "202次:theta0 = 428.488, theta1 = 95.539, diff = 0.0113\n",
      "203次:theta0 = 428.492, theta1 = 95.540, diff = 0.0104\n",
      "204次:theta0 = 428.496, theta1 = 95.541, diff = 0.0096\n"
     ]
    }
   ],
   "source": [
    "#代表一開始是在0+0X\n",
    "theta = [0,0]\n",
    "\n",
    "#cost function\n",
    "def f(X):\n",
    "    return theta[0]+theta[1]*X\n",
    "\n",
    "\n",
    "def computeCost(X, y):\n",
    "    return 0.5*np.sum((y - f(X))**2);\n",
    "\n",
    "eta = 0.002\n",
    "diff = 1\n",
    "\n",
    "count = 0\n",
    "error = computeCost(Z, y)\n",
    "temp = [0,0]\n",
    "\n",
    "#error[0] = computeCost(Z, y)\n",
    "j=[error]\n",
    "\n",
    "while diff > 0.01:\n",
    "    temp[0] = theta[0] - eta*np.sum(f(Z) - y)\n",
    "    temp[1] = theta[1] - eta*np.sum((f(Z) - y)*Z)\n",
    "    theta = temp\n",
    "    #計算diff\n",
    "    error_1 = computeCost(Z, y)\n",
    "    diff = abs(error_1 - error)\n",
    "    error = error_1\n",
    "    count+=1\n",
    "    j.append(error) #要用append把執行完的update加進來\n",
    "    log ='{}次:theta0 = {:.3f}, theta1 = {:.3f}, diff = {:.4f}'\n",
    "    print(log.format(count, theta[0], theta[1], diff))"
   ]
  },
  {
   "cell_type": "code",
   "execution_count": 10,
   "metadata": {},
   "outputs": [
    {
     "data": {
      "text/plain": [
       "[<matplotlib.lines.Line2D at 0x120e7e470>]"
      ]
     },
     "execution_count": 10,
     "metadata": {},
     "output_type": "execute_result"
    },
    {
     "data": {
      "image/png": "[encoded data removed]",
      "text/plain": [
       "<Figure size 432x288 with 1 Axes>"
      ]
     },
     "metadata": {
      "needs_background": "light"
     },
     "output_type": "display_data"
    }
   ],
   "source": [
    "x = np.linspace(-3, 3, 100)\n",
    "plt.plot(Z, y, 'o')\n",
    "plt.plot(x, f(x))"
   ]
  },
  {
   "cell_type": "code",
   "execution_count": 11,
   "metadata": {},
   "outputs": [
    {
     "data": {
      "text/plain": [
       "Text(0,0.5,'cost')"
      ]
     },
     "execution_count": 11,
     "metadata": {},
     "output_type": "execute_result"
    },
    {
     "data": {
      "image/png": "[encoded data removed]",
      "text/plain": [
       "<Figure size 432x288 with 1 Axes>"
      ]
     },
     "metadata": {
      "needs_background": "light"
     },
     "output_type": "display_data"
    }
   ],
   "source": [
    "t = np.linspace(1, 206, 205)\n",
    "plt.plot(t, j, 'r-')\n",
    "plt.xlabel('iteration')\n",
    "plt.ylabel('cost')"
   ]
  },
  {
   "cell_type": "code",
   "execution_count": null,
   "metadata": {},
   "outputs": [],
   "source": []
  },
  {
   "cell_type": "code",
   "execution_count": 12,
   "metadata": {},
   "outputs": [
    {
     "data": {
      "text/plain": [
       "'\\nimport numpy as np\\nimport pandas as pd\\nimport matplotlib.pyplot as plt\\n'"
      ]
     },
     "execution_count": 12,
     "metadata": {},
     "output_type": "execute_result"
    }
   ],
   "source": [
    "'''\n",
    "import numpy as np\n",
    "import pandas as pd\n",
    "import matplotlib.pyplot as plt\n",
    "'''"
   ]
  },
  {
   "cell_type": "code",
   "execution_count": 13,
   "metadata": {},
   "outputs": [
    {
     "ename": "SyntaxError",
     "evalue": "(unicode error) 'unicodeescape' codec can't decode bytes in position 22-23: truncated \\UXXXXXXXX escape (<ipython-input-13-c819ae0fd830>, line 3)",
     "output_type": "error",
     "traceback": [
      "\u001b[0;36m  File \u001b[0;32m\"<ipython-input-13-c819ae0fd830>\"\u001b[0;36m, line \u001b[0;32m3\u001b[0m\n\u001b[0;31m    '''\u001b[0m\n\u001b[0m      ^\u001b[0m\n\u001b[0;31mSyntaxError\u001b[0m\u001b[0;31m:\u001b[0m (unicode error) 'unicodeescape' codec can't decode bytes in position 22-23: truncated \\UXXXXXXXX escape\n"
     ]
    }
   ],
   "source": [
    "'''\n",
    "df = pd.read_csv(r'C:\\Users\\Jack Chang\\Desktop\\INTRODUCTION TO MACHINE LEARNING\\regression1.csv')\n",
    "'''"
   ]
  },
  {
   "cell_type": "code",
   "execution_count": null,
   "metadata": {},
   "outputs": [],
   "source": [
    "'''\n",
    "X = df.iloc[:, 0].values\n",
    "y = df.iloc[:, 1].values\n",
    "'''"
   ]
  },
  {
   "cell_type": "code",
   "execution_count": null,
   "metadata": {},
   "outputs": [],
   "source": [
    "'''\n",
    "mu = X.mean()\n",
    "sigma = X.std()\n",
    "X_z = (X-mu)/sigma\n",
    "'''"
   ]
  },
  {
   "cell_type": "code",
   "execution_count": null,
   "metadata": {},
   "outputs": [],
   "source": [
    "'''\n",
    "# Gradient descent algorithm\n",
    "theta = [0,0]\n",
    "def f(X):\n",
    "    return theta[0]+theta[1]*X\n",
    "def computeCost(X, y):\n",
    "    return np.sum(((f(X)-y)**2)/2)\n",
    "'''"
   ]
  },
  {
   "cell_type": "code",
   "execution_count": null,
   "metadata": {},
   "outputs": [],
   "source": [
    "'''\n",
    "eta = 0.002 #learn rate\n",
    "diff = 1\n",
    "theta = [0,0]\n",
    "count = 0\n",
    "error = computeCost(X_z,y)\n",
    "temp = [0,0]\n",
    "a = [error]\n",
    "while diff > 0.01:\n",
    "    temp[0] = theta[0] - eta*np.sum(f(X_z)-y)\n",
    "    temp[1] = theta[1] - eta*np.sum((f(X_z)-y)*X_z)\n",
    "    theta = temp\n",
    "    error2 = computeCost(X_z,y)\n",
    "    diff = abs(error2-error)\n",
    "    error = error2\n",
    "    a.append(error)\n",
    "    count += 1\n",
    "    log='{}次 : theta0 = {:.3f},theta1 = {:.3f}, diff={:.4f}'\n",
    "    print(log.format(count,temp[0],temp[1], diff))\n",
    "'''"
   ]
  },
  {
   "cell_type": "code",
   "execution_count": null,
   "metadata": {},
   "outputs": [],
   "source": [
    "'''\n",
    "t = np.linspace(-3,3,100)\n",
    "plt.plot(X_z, y ,'o')\n",
    "plt.plot(t, f(t))\n",
    "plt.show()\n",
    "'''"
   ]
  },
  {
   "cell_type": "code",
   "execution_count": null,
   "metadata": {},
   "outputs": [],
   "source": [
    "'''\n",
    "t = np.linspace(1, 206, 205)\n",
    "plt.plot(t, a, 'r-')\n",
    "plt.xlabel('iteration')\n",
    "plt.ylabel('cost')\n",
    "plt.show()\n",
    "'''"
   ]
  }
 ],
 "metadata": {
  "kernelspec": {
   "display_name": "Python 3",
   "language": "python",
   "name": "python3"
  },
  "language_info": {
   "codemirror_mode": {
    "name": "ipython",
    "version": 3
   },
   "file_extension": ".py",
   "mimetype": "text/x-python",
   "name": "python",
   "nbconvert_exporter": "python",
   "pygments_lexer": "ipython3",
   "version": "3.7.0"
  }
 },
 "nbformat": 4,
 "nbformat_minor": 2
}
